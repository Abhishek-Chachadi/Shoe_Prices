{
 "cells": [
  {
   "cell_type": "code",
   "execution_count": 1,
   "id": "815738c1",
   "metadata": {},
   "outputs": [],
   "source": [
    "import requests\n",
    "from bs4 import BeautifulSoup\n",
    "import pandas as pd"
   ]
  },
  {
   "cell_type": "code",
   "execution_count": 2,
   "id": "107bc391",
   "metadata": {},
   "outputs": [],
   "source": [
    "url = 'https://www.amazon.com/s?k=nike+shoes'"
   ]
  },
  {
   "cell_type": "code",
   "execution_count": 4,
   "id": "fb7ed4a6",
   "metadata": {},
   "outputs": [],
   "source": [
    "HEADERS = ({'User-Agent':'Mozilla/5.0 (Macintosh; Intel Mac OS X 10_15_7) AppleWebKit/537.36 (KHTML, like Gecko) Chrome/122.0.0.0 Safari/537.36','Accept-Encoder':'len-US, en:q=0.5'})"
   ]
  },
  {
   "cell_type": "code",
   "execution_count": 6,
   "id": "35f63c56",
   "metadata": {},
   "outputs": [],
   "source": [
    "res = requests.get(url,headers = HEADERS)"
   ]
  },
  {
   "cell_type": "code",
   "execution_count": 11,
   "id": "c56af0b2",
   "metadata": {},
   "outputs": [],
   "source": [
    "soup = BeautifulSoup(res.content,\"lxml\")"
   ]
  },
  {
   "cell_type": "code",
   "execution_count": 16,
   "id": "63892a21",
   "metadata": {},
   "outputs": [],
   "source": [
    "links = soup.find_all('a',attrs = {'class':'a-link-normal s-no-outline'})"
   ]
  },
  {
   "cell_type": "code",
   "execution_count": 32,
   "id": "328ed827",
   "metadata": {},
   "outputs": [
    {
     "data": {
      "text/plain": [
       "'https://amazon.com//Blazer-Mid-VNTG-White-Black/dp/B07R2WX8XX/ref=sr_1_2?dib=eyJ2IjoiMSJ9.d98221Y8khUcVADylzZITWrsElTcNQmsSAB_gkucfqp0FWgNs4EgH_mZRl0yzavWCjkMkNA6wfYaQBya42zkwc8oQmcf87UNM4YQBZ550mWv70AFsC6T9lqyeCXB8ffwHLwuVhkWdorNGXbRW_hinmFxWBaauVmeL3_ntmMoPRBNYEHEh7EhVVm_bI-ZnIf0cR6QeqTDIz95b4FAzFUYYI6nBzvwQ58hU2YbzyJSY5mSQCFXsGuMGaeyWmoYh2-Jc3aQO_leRjkS-vNsZ3kx4I7r1xfEgPGx0DQ7YHqYrfI.OTCGDrLSnZrJ_9HmjA22LxCUMgVqzszBld2atQg3zyc&dib_tag=se&keywords=nike+shoes&qid=1710622913&sr=8-2'"
      ]
     },
     "execution_count": 32,
     "metadata": {},
     "output_type": "execute_result"
    }
   ],
   "source": [
    "url_1 = \"https://amazon.com/\" + links[2].get(\"href\")\n",
    "url_1\n",
    "\n"
   ]
  },
  {
   "cell_type": "code",
   "execution_count": 39,
   "id": "c4730884",
   "metadata": {},
   "outputs": [
    {
     "data": {
      "text/plain": [
       "200"
      ]
     },
     "execution_count": 39,
     "metadata": {},
     "output_type": "execute_result"
    }
   ],
   "source": [
    "res_1 = requests.get(url_1,headers = HEADERS)\n",
    "res_1.status_code"
   ]
  },
  {
   "cell_type": "code",
   "execution_count": 36,
   "id": "6752bc9e",
   "metadata": {},
   "outputs": [],
   "source": [
    "soup = BeautifulSoup(res_1.content,\"lxml\")\n",
    "price_tag = soup.find('span', attrs = {'class':'a-price a-text-price a-size-medium apexPriceToPay'}).find('span',attrs={'class':'a-offscreen'}).text"
   ]
  },
  {
   "cell_type": "code",
   "execution_count": 37,
   "id": "0dfa66cc",
   "metadata": {},
   "outputs": [
    {
     "data": {
      "text/plain": [
       "'$154.95'"
      ]
     },
     "execution_count": 37,
     "metadata": {},
     "output_type": "execute_result"
    }
   ],
   "source": [
    "price_tag"
   ]
  },
  {
   "cell_type": "code",
   "execution_count": 42,
   "id": "5ae4228b",
   "metadata": {},
   "outputs": [],
   "source": [
    "value = soup.find('img',attrs = {'alt':'IIV Mens Air Running Shoes Casual Tennis Walking Athletic Gym Fashion Lightweight Slip On Sneakers'})"
   ]
  },
  {
   "cell_type": "code",
   "execution_count": 46,
   "id": "293bed88",
   "metadata": {},
   "outputs": [],
   "source": [
    "value"
   ]
  },
  {
   "cell_type": "code",
   "execution_count": 50,
   "id": "fa778624",
   "metadata": {},
   "outputs": [
    {
     "data": {
      "text/plain": [
       "\"Nike Men's Low Neck top\""
      ]
     },
     "execution_count": 50,
     "metadata": {},
     "output_type": "execute_result"
    }
   ],
   "source": [
    "title = soup.find('span',attrs = {'id':'productTitle'}).text.strip()\n",
    "title"
   ]
  },
  {
   "cell_type": "code",
   "execution_count": 54,
   "id": "9d24d00f",
   "metadata": {},
   "outputs": [
    {
     "data": {
      "text/plain": [
       "'4.5'"
      ]
     },
     "execution_count": 54,
     "metadata": {},
     "output_type": "execute_result"
    }
   ],
   "source": [
    "rating = soup.find('span', attrs = {'class':'a-size-base a-color-base'})\n",
    "rating.text.strip()"
   ]
  },
  {
   "cell_type": "code",
   "execution_count": 65,
   "id": "1907a181",
   "metadata": {},
   "outputs": [],
   "source": [
    "url_f = 'https://www.flipkart.com'"
   ]
  },
  {
   "cell_type": "code",
   "execution_count": 67,
   "id": "495a6baa",
   "metadata": {},
   "outputs": [
    {
     "name": "stdout",
     "output_type": "stream",
     "text": [
      "HTTP error occurred: 500 Server Error: Internal Server Error for url: https://www.flipkart.com/\n"
     ]
    }
   ],
   "source": [
    "try:\n",
    "    response = requests.get(url_f,headers=HEADERS)\n",
    "    response.raise_for_status()  # Raise an exception for 4xx or 5xx errors\n",
    "    # Process the response\n",
    "except requests.exceptions.HTTPError as err:\n",
    "    print(f\"HTTP error occurred: {err}\")\n",
    "except Exception as err:\n",
    "    print(f\"Other error occurred: {err}\")"
   ]
  },
  {
   "cell_type": "code",
   "execution_count": null,
   "id": "f7911146",
   "metadata": {},
   "outputs": [],
   "source": [
    "soup_f = BeautifulSoup('a',attrs = {})"
   ]
  }
 ],
 "metadata": {
  "kernelspec": {
   "display_name": "Python 3 (ipykernel)",
   "language": "python",
   "name": "python3"
  },
  "language_info": {
   "codemirror_mode": {
    "name": "ipython",
    "version": 3
   },
   "file_extension": ".py",
   "mimetype": "text/x-python",
   "name": "python",
   "nbconvert_exporter": "python",
   "pygments_lexer": "ipython3",
   "version": "3.11.5"
  }
 },
 "nbformat": 4,
 "nbformat_minor": 5
}
